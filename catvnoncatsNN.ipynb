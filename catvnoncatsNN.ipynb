{
 "cells": [
  {
   "cell_type": "markdown",
   "id": "d4837e21-58d1-42e1-9c16-ecc4f4b669d3",
   "metadata": {},
   "source": [
    "## Binary Classification Deep Neural Network without any External Packages\n",
    "### Completely built with just numpy"
   ]
  },
  {
   "cell_type": "markdown",
   "id": "282b10ec-4f99-4127-8461-18d5a3a05d8a",
   "metadata": {},
   "source": [
    "#### Import necessary Libraries"
   ]
  },
  {
   "cell_type": "code",
   "execution_count": 76,
   "id": "1af207db-ba3a-4c8c-85a7-902d480692b1",
   "metadata": {},
   "outputs": [],
   "source": [
    "import copy\n",
    "import matplotlib.pyplot as plt\n",
    "import numpy as np\n",
    "import h5py"
   ]
  },
  {
   "cell_type": "markdown",
   "id": "833add4a-70f0-46d5-a2dc-57109646bb19",
   "metadata": {},
   "source": [
    "#### Load Training & Test data and flatten them"
   ]
  },
  {
   "cell_type": "code",
   "execution_count": 78,
   "id": "0ac848d1-1960-4fa5-892b-b255e1fc7bde",
   "metadata": {},
   "outputs": [],
   "source": [
    "def load_data():\n",
    "    train_dataset = h5py.File('datasets/train_catvnoncat.h5', \"r\")\n",
    "    train_set_x_orig = np.array(train_dataset[\"train_set_x\"][:]) # your train set features\n",
    "    train_set_y_orig = np.array(train_dataset[\"train_set_y\"][:]) # your train set labels\n",
    "\n",
    "    test_dataset = h5py.File('datasets/test_catvnoncat.h5', \"r\")\n",
    "    test_set_x_orig = np.array(test_dataset[\"test_set_x\"][:]) # your test set features\n",
    "    test_set_y_orig = np.array(test_dataset[\"test_set_y\"][:]) # your test set labels\n",
    "\n",
    "    classes = np.array(test_dataset[\"list_classes\"][:]) # the list of classes\n",
    "    \n",
    "    train_set_y_orig = train_set_y_orig.reshape((1, train_set_y_orig.shape[0]))\n",
    "    test_set_y_orig = test_set_y_orig.reshape((1, test_set_y_orig.shape[0]))\n",
    "    \n",
    "    return train_set_x_orig, train_set_y_orig, test_set_x_orig, test_set_y_orig, classes"
   ]
  },
  {
   "cell_type": "markdown",
   "id": "845b3d10-012f-414c-b6b4-937916dc7dd3",
   "metadata": {},
   "source": [
    "#### Initialize the Weights ($W$) and Bias ($b$) for all the Hidden Layers"
   ]
  },
  {
   "cell_type": "code",
   "execution_count": 80,
   "id": "9a40b2f4-74e2-44f9-83d6-b345f2216bc8",
   "metadata": {},
   "outputs": [],
   "source": [
    "def intialize_parameters_deep(layers_dims):\n",
    "    '''\n",
    "    layer_dims -> python array (list) containing the dimensions of each layer in our network\n",
    "    '''\n",
    "    np.random.seed(1)\n",
    "    parameters = {}\n",
    "    L = len(layers_dims) # number of layers in the network\n",
    "\n",
    "    for l in range(1, L):\n",
    "        parameters[\"W\" + str(l)] = np.random.randn(layers_dims[l], layers_dims[l-1]) / np.sqrt(layers_dims[l-1])\n",
    "        parameters[\"b\" + str(l)] = np.zeros((layers_dims[l], 1))\n",
    "        \n",
    "    return parameters"
   ]
  },
  {
   "cell_type": "markdown",
   "id": "b147bb87-2519-4824-b635-d58b963f2915",
   "metadata": {},
   "source": [
    "#### Linear Forward Propagation using ReLU and Sigmoid Activation functions\n",
    "$$Z^{[l]} = W^{[l]}A^{[l-1]} +b^{[l]}\\tag{4}$$\n",
    "- **Sigmoid**: $\\sigma(Z) = \\sigma(W A + b) = \\frac{1}{ 1 + e^{-(W A + b)}}$\n",
    "- **ReLU**: The mathematical formula for ReLu is $A = RELU(Z) = max(0, Z)$"
   ]
  },
  {
   "cell_type": "code",
   "execution_count": 82,
   "id": "c4a4e8b4-aab8-41c6-9e3b-2d0c9ce72ed0",
   "metadata": {},
   "outputs": [],
   "source": [
    "def Linear_activation_forward(A_prev, W, b, activation):\n",
    "    if activation == \"sigmoid\":\n",
    "        Z = W.dot(A_prev) + b\n",
    "        linear_cache = (A_prev, W, b)\n",
    "        A = 1/(1 + np.exp(-Z))\n",
    "        activation_cache = Z\n",
    "\n",
    "    if activation == \"ReLU\":\n",
    "        Z = W.dot(A_prev) + b\n",
    "        linear_cache = (A_prev, W, b)\n",
    "        A = np.maximum(0,Z)\n",
    "        activation_cache = Z\n",
    "\n",
    "    cache = (linear_cache, activation_cache)\n",
    "\n",
    "    return A, cache"
   ]
  },
  {
   "cell_type": "markdown",
   "id": "9cd5c420-f873-473d-82a2-9e801f943d9e",
   "metadata": {},
   "source": [
    "In the code below, the variable `yHat` will denote $\\hat{Y} = \\sigma(Z^{[L]}) = \\sigma(W^{[L]} A^{[L-1]} + b^{[L]})$. "
   ]
  },
  {
   "cell_type": "code",
   "execution_count": 84,
   "id": "c3643b12-18d2-4efc-a18d-1dac185df9dd",
   "metadata": {},
   "outputs": [],
   "source": [
    "def L_model_forward(X, parameters):\n",
    "    '''\n",
    "    returns:\n",
    "    yHat -- activation value from the output (last) layer\n",
    "    caches -- list of caches containing:\n",
    "                every cache of linear_activation_forward() (there are L of them, indexed from 0 to L-1)\n",
    "    '''\n",
    "    caches = []\n",
    "    A = X\n",
    "    L = len(parameters) // 2\n",
    "\n",
    "    for l in range(1, L):\n",
    "        A_prev = A \n",
    "        A, cache = Linear_activation_forward(A_prev, parameters[\"W\" + str(l)], parameters[\"b\" + str(l)], activation = \"ReLU\")\n",
    "        caches.append(cache)\n",
    "\n",
    "    yHat, cache = Linear_activation_forward(A, parameters[\"W\" + str(L)], parameters[\"b\" + str(L)], activation = \"sigmoid\")\n",
    "    caches.append(cache)\n",
    "    \n",
    "    return yHat, caches"
   ]
  },
  {
   "cell_type": "markdown",
   "id": "177027db-5610-46d0-8596-8bd49fc591a3",
   "metadata": {},
   "source": [
    "#### Compute the cost\n",
    "$$-\\frac{1}{m} \\sum\\limits_{i = 1}^{m} (y^{(i)}\\log\\left(a^{[L] (i)}\\right) + (1-y^{(i)})\\log\\left(1- a^{[L](i)}\\right)) \\tag{7}$$"
   ]
  },
  {
   "cell_type": "code",
   "execution_count": 86,
   "id": "b4385aa8-0e36-4046-bce0-b22d58f62815",
   "metadata": {},
   "outputs": [],
   "source": [
    "def compute_cost(yHat, Y):\n",
    "    m = Y.shape[1]\n",
    "\n",
    "    term1 = Y * np.log(yHat)\n",
    "    term2 = (1 - Y) * np.log(1 - yHat)\n",
    "    cost = -1/m * np.sum((term1+term2), axis=1, keepdims=True)\n",
    "\n",
    "    cost = np.squeeze(cost)\n",
    "\n",
    "    return cost"
   ]
  },
  {
   "cell_type": "markdown",
   "id": "bf3fc919-3bb7-4eed-a92d-4c971c302bbe",
   "metadata": {},
   "source": [
    "#### Back Propagation"
   ]
  },
  {
   "cell_type": "markdown",
   "id": "fe173d53-e670-42c7-9f52-3d1310b81f72",
   "metadata": {},
   "source": [
    "For layer $l$, the linear part is: $Z^{[l]} = W^{[l]} A^{[l-1]} + b^{[l]}$ (followed by an activation).\n",
    "\n",
    "Suppose you have already calculated the derivative $dZ^{[l]} = \\frac{\\partial \\mathcal{L} }{\\partial Z^{[l]}}$. You want to get $(dW^{[l]}, db^{[l]}, dA^{[l-1]})$.\n",
    "\n",
    "The three outputs $(dW^{[l]}, db^{[l]}, dA^{[l-1]})$ are computed using the input $dZ^{[l]}$.\n",
    "\n",
    "Here are the formulas you need:\n",
    "$$ dW^{[l]} = \\frac{\\partial \\mathcal{J} }{\\partial W^{[l]}} = \\frac{1}{m} dZ^{[l]} A^{[l-1] T}$$\n",
    "$$ db^{[l]} = \\frac{\\partial \\mathcal{J} }{\\partial b^{[l]}} = \\frac{1}{m} \\sum_{i = 1}^{m} dZ^{[l](i)}$$\n",
    "$$ dA^{[l-1]} = \\frac{\\partial \\mathcal{L} }{\\partial A^{[l-1]}} = W^{[l] T} dZ^{[l]}$$\n",
    "\n",
    "\n",
    "$A^{[l-1] T}$ is the transpose of $A^{[l-1]}$. "
   ]
  },
  {
   "cell_type": "code",
   "execution_count": 89,
   "id": "47c67a56-9193-4bd4-b98a-f02e8ddb6785",
   "metadata": {},
   "outputs": [],
   "source": [
    "def ReLU_backward(dA, cache):\n",
    "    \"\"\"\n",
    "    Implement the backward propagation for a single ReLU unit.\n",
    "\n",
    "    Arguments:\n",
    "    dA -- post-activation gradient, of any shape\n",
    "    cache -- 'Z' where we store for computing backward propagation efficiently\n",
    "\n",
    "    Returns:\n",
    "    dZ -- Gradient of the cost with respect to Z\n",
    "    \"\"\"\n",
    "    \n",
    "    Z = cache\n",
    "    dZ = np.array(dA, copy=True) # just converting dz to a correct object.\n",
    "    \n",
    "    # When z <= 0, you should set dz to 0 as well. \n",
    "    dZ[Z <= 0] = 0\n",
    "    \n",
    "    return dZ\n",
    "\n",
    "def sigmoid_backward(dA, cache):\n",
    "    \"\"\"\n",
    "    Implement the backward propagation for a single SIGMOID unit.\n",
    "\n",
    "    Arguments:\n",
    "    dA -- post-activation gradient, of any shape\n",
    "    cache -- 'Z' where we store for computing backward propagation efficiently\n",
    "\n",
    "    Returns:\n",
    "    dZ -- Gradient of the cost with respect to Z\n",
    "    \"\"\"\n",
    "    \n",
    "    Z = cache\n",
    "    \n",
    "    s = 1/(1 + np.exp(-Z))\n",
    "    dZ = dA * s * (1-s)\n",
    "    \n",
    "    return dZ\n",
    "    \n",
    "def linear_backward(dZ, cache):\n",
    "    \"\"\"\n",
    "    Implement the linear portion of backward propagation for a single layer (layer l)\n",
    "\n",
    "    Arguments:\n",
    "    dZ -- Gradient of the cost with respect to the linear output (of current layer l)\n",
    "    cache -- tuple of values (A_prev, W, b) coming from the forward propagation in the current layer\n",
    "\n",
    "    Returns:\n",
    "    dA_prev -- Gradient of the cost with respect to the activation (of the previous layer l-1), same shape as A_prev\n",
    "    dW -- Gradient of the cost with respect to W (current layer l), same shape as W\n",
    "    db -- Gradient of the cost with respect to b (current layer l), same shape as b\n",
    "    \"\"\"\n",
    "    A_prev, W, b = cache\n",
    "    m = A_prev.shape[1]\n",
    "    dW = 1./m * np.dot(dZ, A_prev.T)\n",
    "    db = 1./m * np.sum(dZ, axis=1, keepdims=True)\n",
    "    dA_prev = np.dot(W.T, dZ)\n",
    "    \n",
    "    return dA_prev, dW, db "
   ]
  },
  {
   "cell_type": "markdown",
   "id": "fce9d6e7-4f7a-4f2b-a4de-eb68b5dc078f",
   "metadata": {},
   "source": [
    "`sigmoid_backward` and `relu_backward` compute $$dZ^{[l]} = dA^{[l]} * g'(Z^{[l]}). \\tag{11}$$ "
   ]
  },
  {
   "cell_type": "code",
   "execution_count": 91,
   "id": "a1a6162a-1004-419c-9079-5376499bac19",
   "metadata": {},
   "outputs": [],
   "source": [
    "def linear_activation_backward(dA, cache, activation):\n",
    "    linear_cache, activation_cache = cache\n",
    "\n",
    "    if activation == \"ReLU\":\n",
    "        dZ = ReLU_backward(dA, activation_cache)\n",
    "        dA_prev, dW, db = linear_backward(dZ, linear_cache)\n",
    "        \n",
    "    elif activation == \"sigmoid\":\n",
    "        dZ = sigmoid_backward(dA, activation_cache)\n",
    "        dA_prev, dW, db = linear_backward(dZ, linear_cache)\n",
    "    \n",
    "    return dA_prev, dW, db"
   ]
  },
  {
   "cell_type": "markdown",
   "id": "babd449c-f98b-46f2-b155-593a523dbb4c",
   "metadata": {},
   "source": [
    "To backpropagate through this network, you know that the output is: \n",
    "$A^{[L]} = \\sigma(Z^{[L]})$. Your code thus needs to compute `dAL` $= \\frac{\\partial \\mathcal{L}}{\\partial A^{[L]}}$.\n",
    "To do so, use this formula (derived using calculus which, again, you don't need in-depth knowledge of!):\n",
    "\n",
    "```python\n",
    "dyHat = - (np.divide(Y, yHat) - np.divide(1 - Y, 1 - yHat)) # derivative of cost with respect to AL\n",
    "```"
   ]
  },
  {
   "cell_type": "code",
   "execution_count": 93,
   "id": "8fa5b023-25d9-44a8-8abb-66b9721cb25f",
   "metadata": {},
   "outputs": [],
   "source": [
    "def L_model_backward(yHat, Y, caches):\n",
    "    \"\"\"\n",
    "    AL -- probability vector, output of the forward propagation (L_model_forward())\n",
    "    Y -- true \"label\" vector (containing 0 if non-true, 1 if true)\n",
    "    caches -- list of caches containing:\n",
    "                every cache of linear_activation_forward() with \"ReLU\" (it's caches[l], for l in range(L-1) i.e l = 0...L-2)\n",
    "                the cache of linear_activation_forward() with \"sigmoid\" (it's caches[L-1])\n",
    "    \n",
    "    Returns:\n",
    "    grads -- A dictionary with the gradients\n",
    "             grads[\"dA\" + str(l)] = ... \n",
    "             grads[\"dW\" + str(l)] = ...\n",
    "             grads[\"db\" + str(l)] = ... \n",
    "    \"\"\"\n",
    "    grads = {}\n",
    "    L = len(caches) # Number of Layers\n",
    "    m = yHat.shape[1]\n",
    "    \n",
    "    Y = Y.reshape(yHat.shape)\n",
    "\n",
    "    dyHat = - (np.divide(Y, yHat) - np.divide(1 - Y, 1 - yHat))\n",
    "\n",
    "    # Lth Layer\n",
    "    current_cache = caches[L-1]\n",
    "    dA_prev_temp, dW_temp, db_temp = linear_activation_backward(dyHat, current_cache, activation=\"sigmoid\")\n",
    "    grads[\"dA\" + str(L-1)] = dA_prev_temp\n",
    "    grads[\"dW\" + str(L)] = dW_temp\n",
    "    grads[\"db\" + str(L)] = db_temp\n",
    "    \n",
    "    # Loop from l=L-2 to l=0\n",
    "    for l in reversed(range(L-1)):\n",
    "        current_cache = caches[l]\n",
    "        dA_prev_temp, dW_temp, db_temp = linear_activation_backward(grads[\"dA\" + str(l + 1)], current_cache, activation=\"ReLU\")\n",
    "        grads[\"dA\" + str(l)] = dA_prev_temp\n",
    "        grads[\"dW\" + str(l + 1)] = dW_temp\n",
    "        grads[\"db\" + str(l + 1)] = db_temp\n",
    "\n",
    "    return grads"
   ]
  },
  {
   "cell_type": "markdown",
   "id": "df6c1f79-5416-4ec7-a0a6-8282f2c40bb0",
   "metadata": {},
   "source": [
    "\n",
    "$$ W^{[l]} = W^{[l]} - \\alpha \\text{ } dW^{[l]} \\tag{16}$$\n",
    "$$ b^{[l]} = b^{[l]} - \\alpha \\text{ } db^{[l]} \\tag{17}$$\n",
    "\n",
    "where $\\alpha$ is the learning rate. "
   ]
  },
  {
   "cell_type": "code",
   "execution_count": 95,
   "id": "f003e580-6ac9-45fc-82fd-14c679ca97f2",
   "metadata": {},
   "outputs": [],
   "source": [
    "def update_parameters(parameters, grads, learning_rate):\n",
    "\n",
    "    L = len(parameters) // 2\n",
    "\n",
    "    for l in range(L):\n",
    "        parameters[\"W\" + str(l+1)] = parameters[\"W\" + str(l+1)] - np.dot(learning_rate, grads[\"dW\" + str(l+1)])\n",
    "        parameters[\"b\" + str(l+1)] = parameters[\"b\" + str(l+1)] - np.dot(learning_rate, grads[\"db\" + str(l+1)])\n",
    "        \n",
    "    return parameters"
   ]
  },
  {
   "cell_type": "markdown",
   "id": "b5c9ed42-cf5e-4955-a817-18da397dbea2",
   "metadata": {},
   "source": [
    "### The main Function to Train the Deep Neural Network"
   ]
  },
  {
   "cell_type": "code",
   "execution_count": 97,
   "id": "c2400307-7b9f-4a40-9bb5-b11a2df12070",
   "metadata": {},
   "outputs": [],
   "source": [
    "def deepNeuralNetwork(X, Y, layers_dims, learning_rate = 0.01, num_iterations = 2500, print_cost = False):\n",
    "    '''\n",
    "    X -> Input data, (n_x, number of examples)\n",
    "    Y -> True label vector containing true (1) or not true (0)\n",
    "\n",
    "    Returns Parameters learned by the model\n",
    "    '''\n",
    "    np.random.seed(1) \n",
    "    costs = []\n",
    "\n",
    "    parameters = intialize_parameters_deep(layers_dims)\n",
    "\n",
    "    # Gradient Descent Loop\n",
    "    for i in range(0, num_iterations):\n",
    "        yHat, caches = L_model_forward(X, parameters)\n",
    "\n",
    "        # Compute cost\n",
    "        cost = compute_cost(yHat, Y)\n",
    "\n",
    "        # Backward Propagation\n",
    "        grads = L_model_backward(yHat, Y, caches)\n",
    "\n",
    "        # Update Parameters\n",
    "        parameters = update_parameters(parameters, grads, learning_rate)\n",
    "\n",
    "        # Print the cost every 100 iterations\n",
    "        if print_cost and i % 100 == 0 or i == num_iterations - 1:\n",
    "            print(\"Cost after iteration {}: {}\".format(i, np.squeeze(cost)))\n",
    "        if i % 100 == 0 or i == num_iterations:\n",
    "            costs.append(cost)\n",
    "\n",
    "    return parameters, costs"
   ]
  },
  {
   "cell_type": "markdown",
   "id": "d7d641a6-cbb6-4043-84ce-2ae0e9292120",
   "metadata": {},
   "source": [
    "### Initiate Training of the Neural Network"
   ]
  },
  {
   "cell_type": "code",
   "execution_count": 99,
   "id": "743682e8-a2f0-41f2-94b2-6869ccf39c38",
   "metadata": {
    "scrolled": true
   },
   "outputs": [
    {
     "name": "stdout",
     "output_type": "stream",
     "text": [
      "train_x's shape: (12288, 209)\n",
      "test_x's shape: (12288, 50)\n",
      "Cost after iteration 0: 0.7717493284237686\n",
      "Cost after iteration 100: 0.6692696631401116\n",
      "Cost after iteration 200: 0.6388738671173996\n",
      "Cost after iteration 300: 0.5978842419394992\n",
      "Cost after iteration 400: 0.5688271812027766\n",
      "Cost after iteration 500: 0.46126000616108054\n",
      "Cost after iteration 600: 0.508483606788839\n",
      "Cost after iteration 700: 0.32759554824353215\n",
      "Cost after iteration 800: 0.31039800057544936\n",
      "Cost after iteration 900: 0.2488305281626642\n",
      "Cost after iteration 1000: 0.20730930330849923\n",
      "Cost after iteration 1100: 0.14048537378492812\n",
      "Cost after iteration 1200: 0.11567032435733031\n",
      "Cost after iteration 1300: 0.09925963099373135\n",
      "Cost after iteration 1400: 0.08584462857591117\n",
      "Cost after iteration 1500: 0.07497507157629976\n",
      "Cost after iteration 1600: 0.06780881950806797\n",
      "Cost after iteration 1700: 0.058401527166982846\n",
      "Cost after iteration 1800: 0.05205409767343471\n",
      "Cost after iteration 1900: 0.047679648995291854\n",
      "Cost after iteration 2000: 0.04225894453507129\n",
      "Cost after iteration 2100: 0.03779723515289587\n",
      "Cost after iteration 2200: 0.034730299978693556\n",
      "Cost after iteration 2300: 0.03139111545378388\n",
      "Cost after iteration 2400: 0.028787574070262143\n",
      "Cost after iteration 2500: 0.02648436522765357\n",
      "Cost after iteration 2600: 0.024381129657926392\n",
      "Cost after iteration 2700: 0.022656507321385924\n",
      "Cost after iteration 2800: 0.021024227581350547\n",
      "Cost after iteration 2900: 0.019644119598018366\n",
      "Cost after iteration 3000: 0.018487126889877716\n",
      "Cost after iteration 3100: 0.017254949302668743\n",
      "Cost after iteration 3200: 0.016287481794473632\n",
      "Cost after iteration 3300: 0.015256222643442131\n",
      "Cost after iteration 3400: 0.014546878154013133\n",
      "Cost after iteration 3500: 0.01360550222613773\n",
      "Cost after iteration 3600: 0.013013346498050348\n",
      "Cost after iteration 3700: 0.012225190189400001\n",
      "Cost after iteration 3800: 0.011683332445730898\n",
      "Cost after iteration 3900: 0.011128764964132015\n",
      "Cost after iteration 4000: 0.010616104825500216\n",
      "Cost after iteration 4100: 0.010114194478190489\n",
      "Cost after iteration 4200: 0.009700666087268729\n",
      "Cost after iteration 4300: 0.00935847666706479\n",
      "Cost after iteration 4400: 0.008916554179516175\n",
      "Cost after iteration 4500: 0.008559079840856354\n",
      "Cost after iteration 4600: 0.00822470226477258\n",
      "Cost after iteration 4700: 0.007916136632867153\n",
      "Cost after iteration 4800: 0.007615177038158487\n",
      "Cost after iteration 4900: 0.007365322214352955\n",
      "Cost after iteration 4999: 0.00710161244137784\n"
     ]
    }
   ],
   "source": [
    "train_x_orig, train_y, test_x_orig, test_y, classes = load_data()\n",
    "# Reshape the training and test examples \n",
    "train_x_flatten = train_x_orig.reshape(train_x_orig.shape[0], -1).T   # The \"-1\" makes reshape flatten the remaining dimensions\n",
    "test_x_flatten = test_x_orig.reshape(test_x_orig.shape[0], -1).T\n",
    "\n",
    "# Standardize data to have feature values between 0 and 1.\n",
    "train_x = train_x_flatten/255.\n",
    "test_x = test_x_flatten/255.\n",
    "\n",
    "print (\"train_x's shape: \" + str(train_x.shape))\n",
    "print (\"test_x's shape: \" + str(test_x.shape))\n",
    "\n",
    "layers_dims = [train_x.shape[0], 20, 7, 5, 1]\n",
    "parameters, costs = deepNeuralNetwork(train_x, train_y, layers_dims, num_iterations = 5000, print_cost = True)"
   ]
  },
  {
   "cell_type": "markdown",
   "id": "d01e6c49-9ad3-43be-a49b-01556d844e3e",
   "metadata": {},
   "source": [
    "### Predict the results on the training data and calculate Accuracy"
   ]
  },
  {
   "cell_type": "code",
   "execution_count": 101,
   "id": "206f70b9-0a57-48ca-87a1-10bcfdb4fe73",
   "metadata": {},
   "outputs": [],
   "source": [
    "def predict(X, y, parameters):\n",
    "    \"\"\"\n",
    "    This function is used to predict the results of a  L-layer neural network.\n",
    "    \n",
    "    Arguments:\n",
    "    X -- data set of examples you would like to label\n",
    "    parameters -- parameters of the trained model\n",
    "    \n",
    "    Returns:\n",
    "    p -- predictions for the given dataset X\n",
    "    \"\"\"\n",
    "    \n",
    "    m = X.shape[1]\n",
    "    n = len(parameters) // 2 # number of layers in the neural network\n",
    "    p = np.zeros((1,m))\n",
    "    \n",
    "    # Forward propagation\n",
    "    probas, caches = L_model_forward(X, parameters)\n",
    "\n",
    "    # convert probas to 0/1 predictions\n",
    "    for i in range(0, probas.shape[1]):\n",
    "        if probas[0,i] > 0.5:\n",
    "            p[0,i] = 1\n",
    "        else:\n",
    "            p[0,i] = 0\n",
    "    \n",
    "    #print results\n",
    "    #print (\"predictions: \" + str(p))\n",
    "    #print (\"true labels: \" + str(y))\n",
    "    print(\"Accuracy: \"  + str(np.sum((p == y)/m)))\n",
    "        \n",
    "    return p"
   ]
  },
  {
   "cell_type": "code",
   "execution_count": 123,
   "id": "5e026e54-9154-4d0b-83c3-8daf81849d0d",
   "metadata": {},
   "outputs": [
    {
     "name": "stdout",
     "output_type": "stream",
     "text": [
      "Accuracy: 0.9999999999999998\n",
      "Accuracy: 0.8\n"
     ]
    }
   ],
   "source": [
    "pred_train = predict(train_x, train_y, parameters)\n",
    "pred_test = predict(test_x, test_y, parameters)"
   ]
  },
  {
   "cell_type": "markdown",
   "id": "ba42e84f-72ec-4e62-a4ad-ae38fb045196",
   "metadata": {},
   "source": [
    "### Make prediction on an image entirely new"
   ]
  },
  {
   "cell_type": "code",
   "execution_count": 127,
   "id": "e259e2bd-b224-4df4-87c4-d03633dd236f",
   "metadata": {},
   "outputs": [
    {
     "name": "stdout",
     "output_type": "stream",
     "text": [
      "Accuracy: 1.0\n",
      "y = 1.0, your L-layer model predicts a \"cat\" picture.\n"
     ]
    },
    {
     "data": {
      "image/png": "[encoded data removed]",
      "text/plain": [
       "<Figure size 640x480 with 1 Axes>"
      ]
     },
     "metadata": {},
     "output_type": "display_data"
    }
   ],
   "source": [
    "from PIL import Image\n",
    "import numpy as np\n",
    "\n",
    "my_image = \"catImage.jpg\" # change this to the name of your image file \n",
    "my_label_y = [1] # the true class of your image (1 -> cat, 0 -> non-cat)\n",
    "num_px = 64\n",
    "\n",
    "fname = my_image\n",
    "image = np.array(Image.open(fname).resize((num_px, num_px)))\n",
    "plt.imshow(image)\n",
    "image = image / 255.\n",
    "image = image.reshape((1, num_px * num_px * 3)).T\n",
    "\n",
    "my_predicted_image = predict(image, my_label_y, parameters)\n",
    "\n",
    "\n",
    "print (\"y = \" + str(np.squeeze(my_predicted_image)) + \", your L-layer model predicts a \\\"\" + classes[int(np.squeeze(my_predicted_image)),].decode(\"utf-8\") +  \"\\\" picture.\")"
   ]
  },
  {
   "cell_type": "code",
   "execution_count": null,
   "id": "978b4030-6974-4be9-a1db-6d9f9f72ecee",
   "metadata": {},
   "outputs": [],
   "source": []
  }
 ],
 "metadata": {
  "kernelspec": {
   "display_name": "Python 3 (ipykernel)",
   "language": "python",
   "name": "python3"
  },
  "language_info": {
   "codemirror_mode": {
    "name": "ipython",
    "version": 3
   },
   "file_extension": ".py",
   "mimetype": "text/x-python",
   "name": "python",
   "nbconvert_exporter": "python",
   "pygments_lexer": "ipython3",
   "version": "3.12.7"
  }
 },
 "nbformat": 4,
 "nbformat_minor": 5
}
